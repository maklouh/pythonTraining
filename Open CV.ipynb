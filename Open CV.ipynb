{
  "nbformat": 4,
  "nbformat_minor": 0,
  "metadata": {
    "kernelspec": {
      "display_name": "Python 3",
      "language": "python",
      "name": "python3"
    },
    "language_info": {
      "codemirror_mode": {
        "name": "ipython",
        "version": 3
      },
      "file_extension": ".py",
      "mimetype": "text/x-python",
      "name": "python",
      "nbconvert_exporter": "python",
      "pygments_lexer": "ipython3",
      "version": "3.8.3"
    },
    "colab": {
      "name": "Open CV.ipynb",
      "provenance": []
    }
  },
  "cells": [
    {
      "cell_type": "code",
      "metadata": {
        "id": "uKESfBJ7Bt1J",
        "outputId": "28087b84-05b9-4dc6-8e2f-02a104bc2d7a",
        "colab": {
          "base_uri": "https://localhost:8080/",
          "height": 120
        }
      },
      "source": [
        "import cv2 \n",
        "import pytesseract\n",
        "\n",
        "img = cv2.imread('/content/facture.PNG')\n",
        "\n",
        "# Adding custom options\n",
        "custom_config = r'--oem 3 --psm 6'\n",
        "pytesseract.image_to_string(img, config=custom_config)"
      ],
      "execution_count": 22,
      "outputs": [
        {
          "output_type": "execute_result",
          "data": {
            "application/vnd.google.colaboratory.intrinsic+json": {
              "type": "string"
            },
            "text/plain": [
              "\"au capital de 3.584.595 EUR\\n\\ngerce fen Barbusse 92585 CLICHY CEDEX\\n\\nRCS : Nanterre B 324 379 866\\n\\nSIRET : 324 379 866 00019\\n\\nFe qiidentifcation @ la TVA FR 11324379866\\n\\nSewice Client : Tel: 02.41.27.45.00 choix 3+3\\nClichy, le 28/01/2020\\nMonsieur Ludovic VORZAIS\\nludovic.v@hotmail.fr\\n\\nN° de client : 3268830\\n\\nCourse n° : 2161\\n\\nPassager : M. LUDOVIC VORZAIS\\n\\nDate de la commande : 28/01/2020\\n\\nDate de la prestation : 28/01/2020 23h38\\n\\nDépart : 12, Rue de Presbourg, 75016 PARIS-16EME\\n\\n[eee ee iagneraon os 6 Le] wn 2 ava] were |\\n\\nontant de a course (7 lo |e | ab teove\\n\\n(i) Montant collecté au nom et pour le compte des conducteurs de taxis affiliés et inte igralement reversé 4 ces\\n\\nderniers en application du régime des débours prévu a l'article 267 CGI\\n\\nMode de réglement [Date de la transaction| N° de la transaction Montant payé\\nPAYBOX/MasterCard 28/01/2020 23:56 316393244 18.90€\\n\\nTout montant restant dé doit étre réglé 4 G7 a réception de cette facture.\\n\\nLe réglement anticipé des factures ne donne lieu 4 aucun escompte.\\n\\nToute somme demeurée impayée sera majorée d'intéréts de retard au taux de trois fois le tz i H\\n\\nen vigueur 4 compter du premier jour de retard. En outre, le taux de Mintérét légal\\n\\nSo ei cmenes aopliquers 61 le Olent est un profersionnel. indemnité forfaitaire de 40€ pour trals de\\n\\x0c\""
            ]
          },
          "metadata": {
            "tags": []
          },
          "execution_count": 22
        }
      ]
    }
  ]
}
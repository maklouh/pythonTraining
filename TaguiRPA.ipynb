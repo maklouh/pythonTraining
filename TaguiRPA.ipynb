{
 "cells": [
  {
   "cell_type": "code",
   "execution_count": 4,
   "id": "594a24fa-b1bb-4792-ab33-4030f1bf02de",
   "metadata": {},
   "outputs": [],
   "source": [
    "import nltk\n",
    "import random\n",
    "import rpa as r"
   ]
  },
  {
   "cell_type": "code",
   "execution_count": 5,
   "id": "5d4545d4-7060-4364-99d7-5adb3fda4361",
   "metadata": {},
   "outputs": [],
   "source": [
    "# -----------------------------------------Create list of possible 5-letter words----------------------\n",
    "from nltk.corpus import words\n",
    "wordlist = words.words()\n",
    "wordlist = [w.lower() for w in words.words() if len(w)==5]\n",
    " \n",
    "correct = [\"?\"] * 5  # store letters that are in the word and correct spot, i.e green tiles\n",
    "present = []  # store letters that are in the word but not in correct spot\n",
    "absent = []  # store letters that are not in the word in any spot"
   ]
  },
  {
   "cell_type": "code",
   "execution_count": 7,
   "id": "15461219-038e-4bf5-9e8a-31cca2fbd45d",
   "metadata": {},
   "outputs": [
    {
     "name": "stdout",
     "output_type": "stream",
     "text": [
      "[RPA][INFO] - to use visual automation mode, OpenJDK v8 (64-bit) or later is required\n",
      "[RPA][INFO] - download from Amazon Corretto's website - https://aws.amazon.com/corretto\n",
      "[RPA][INFO] - OpenJDK is preferred over Java JDK which is free for non-commercial use only\n",
      "[RPA][ERROR] - use init() before using url()\n",
      "[RPA][ERROR] - use init() before using keyboard()\n",
      "[RPA][ERROR] - use init() before using keyboard()\n",
      "[RPA][ERROR] - use init() before using click()\n"
     ]
    },
    {
     "ename": "IndexError",
     "evalue": "list index out of range",
     "output_type": "error",
     "traceback": [
      "\u001b[1;31m---------------------------------------------------------------------------\u001b[0m",
      "\u001b[1;31mIndexError\u001b[0m                                Traceback (most recent call last)",
      "\u001b[1;32m<ipython-input-7-758c4a696670>\u001b[0m in \u001b[0;36m<module>\u001b[1;34m\u001b[0m\n\u001b[0;32m      9\u001b[0m \u001b[0mrow\u001b[0m \u001b[1;33m=\u001b[0m \u001b[1;36m1\u001b[0m   \u001b[1;31m# start with row 1 and create while loop till row 6\u001b[0m\u001b[1;33m\u001b[0m\u001b[1;33m\u001b[0m\u001b[0m\n\u001b[0;32m     10\u001b[0m \u001b[1;32mwhile\u001b[0m \u001b[0mrow\u001b[0m \u001b[1;33m<\u001b[0m \u001b[1;36m7\u001b[0m\u001b[1;33m:\u001b[0m\u001b[1;33m\u001b[0m\u001b[1;33m\u001b[0m\u001b[0m\n\u001b[1;32m---> 11\u001b[1;33m     \u001b[0mwordle\u001b[0m \u001b[1;33m=\u001b[0m \u001b[0mrandom\u001b[0m\u001b[1;33m.\u001b[0m\u001b[0mchoice\u001b[0m\u001b[1;33m(\u001b[0m\u001b[0mwordlist\u001b[0m\u001b[1;33m)\u001b[0m\u001b[1;33m\u001b[0m\u001b[1;33m\u001b[0m\u001b[0m\n\u001b[0m\u001b[0;32m     12\u001b[0m     \u001b[0mr\u001b[0m\u001b[1;33m.\u001b[0m\u001b[0mkeyboard\u001b[0m\u001b[1;33m(\u001b[0m\u001b[0mwordle\u001b[0m\u001b[1;33m)\u001b[0m\u001b[1;33m\u001b[0m\u001b[1;33m\u001b[0m\u001b[0m\n\u001b[0;32m     13\u001b[0m     \u001b[0mr\u001b[0m\u001b[1;33m.\u001b[0m\u001b[0mkeyboard\u001b[0m\u001b[1;33m(\u001b[0m\u001b[1;34m\"[enter]\"\u001b[0m\u001b[1;33m)\u001b[0m\u001b[1;33m\u001b[0m\u001b[1;33m\u001b[0m\u001b[0m\n",
      "\u001b[1;32mc:\\users\\p093776\\appdata\\local\\programs\\python\\python39\\lib\\random.py\u001b[0m in \u001b[0;36mchoice\u001b[1;34m(self, seq)\u001b[0m\n\u001b[0;32m    345\u001b[0m         \u001b[1;34m\"\"\"Choose a random element from a non-empty sequence.\"\"\"\u001b[0m\u001b[1;33m\u001b[0m\u001b[1;33m\u001b[0m\u001b[0m\n\u001b[0;32m    346\u001b[0m         \u001b[1;31m# raises IndexError if seq is empty\u001b[0m\u001b[1;33m\u001b[0m\u001b[1;33m\u001b[0m\u001b[1;33m\u001b[0m\u001b[0m\n\u001b[1;32m--> 347\u001b[1;33m         \u001b[1;32mreturn\u001b[0m \u001b[0mseq\u001b[0m\u001b[1;33m[\u001b[0m\u001b[0mself\u001b[0m\u001b[1;33m.\u001b[0m\u001b[0m_randbelow\u001b[0m\u001b[1;33m(\u001b[0m\u001b[0mlen\u001b[0m\u001b[1;33m(\u001b[0m\u001b[0mseq\u001b[0m\u001b[1;33m)\u001b[0m\u001b[1;33m)\u001b[0m\u001b[1;33m]\u001b[0m\u001b[1;33m\u001b[0m\u001b[1;33m\u001b[0m\u001b[0m\n\u001b[0m\u001b[0;32m    348\u001b[0m \u001b[1;33m\u001b[0m\u001b[0m\n\u001b[0;32m    349\u001b[0m     \u001b[1;32mdef\u001b[0m \u001b[0mshuffle\u001b[0m\u001b[1;33m(\u001b[0m\u001b[0mself\u001b[0m\u001b[1;33m,\u001b[0m \u001b[0mx\u001b[0m\u001b[1;33m,\u001b[0m \u001b[0mrandom\u001b[0m\u001b[1;33m=\u001b[0m\u001b[1;32mNone\u001b[0m\u001b[1;33m)\u001b[0m\u001b[1;33m:\u001b[0m\u001b[1;33m\u001b[0m\u001b[1;33m\u001b[0m\u001b[0m\n",
      "\u001b[1;31mIndexError\u001b[0m: list index out of range"
     ]
    }
   ],
   "source": [
    "# -----------------------------------------use RPA to access game-------------------------------------\n",
    "r.init(visual_automation=True)\n",
    "r.url(\"https://www.powerlanguage.co.uk/wordle/\")\n",
    "r.wait()   # allow webpage to load\n",
    "r.keyboard(\"[alt][esc]\")\n",
    "r.keyboard(\"[win][up]\")  # maximize screen\n",
    "r.wait()\n",
    "r.click(500,500)  # click away from help screen\n",
    "row = 1   # start with row 1 and create while loop till row 6\n",
    "while row < 7:\n",
    "    wordle = random.choice(wordlist)\n",
    "    r.keyboard(wordle)\n",
    "    r.keyboard(\"[enter]\")\n",
    "    r.wait()\n",
    " \n",
    "    r.dom(\"root1 = document.querySelector('body > game-app').shadowRoot\")\n",
    "    r.dom(f\"root2 = root1.querySelector('#board > game-row:nth-child({row})').shadowRoot\")\n",
    "    r.dom(f\"root3 = root2.querySelector('div > game-tile:nth-child(1)').shadowRoot\")\n",
    "    results = r.dom(\"return root3.querySelector('div').attributes[1].value\")\n",
    "         \n",
    "    if results == \"tbd\":\n",
    "        r.keyboard(\"[backspace]\" * 5) \n",
    "        continue      \n",
    "     \n",
    "    for tile in range(1,6):\n",
    "        r.dom(\"root1 = document.querySelector('body > game-app').shadowRoot\")\n",
    "        r.dom(f\"root2 = root1.querySelector('#board > game-row:nth-child({row})').shadowRoot\")\n",
    "        r.dom(f\"root3 = root2.querySelector('div > game-tile:nth-child({tile})').shadowRoot\")\n",
    "        results = r.dom(\"return root3.querySelector('div').attributes[1].value\")\n",
    " \n",
    "        if results == \"correct\":\n",
    "            correct[tile-1] = wordle[tile-1]\n",
    "        elif results == \"present\":\n",
    "            present.append(wordle[tile-1])\n",
    "        else:\n",
    "            absent.append(wordle[tile-1])\n",
    "     \n",
    "    for w in wordlist[:]:\n",
    "        for a in list(w):\n",
    "            if a in absent and a not in present and a not in correct:\n",
    "                wordlist.remove(w)\n",
    "                break\n",
    " \n",
    "    for p in present:\n",
    "        for w in wordlist[:]:\n",
    "            if p not in list(w):\n",
    "                wordlist.remove(w)  \n",
    " \n",
    "    for w in wordlist[:]: \n",
    "        for x in range(len(correct)):\n",
    "            if list(w)[x] != correct[x] and correct[x] !=\"?\":\n",
    "                wordlist.remove(w)\n",
    "                break\n",
    "     \n",
    "    row += 1\n",
    " \n",
    "print(correct, present, absent)\n",
    " \n",
    "r.snap('page', 'results.png')\n",
    "r.close()"
   ]
  },
  {
   "cell_type": "code",
   "execution_count": null,
   "id": "29c2cabe-fd69-4594-91d2-3b8d05020035",
   "metadata": {},
   "outputs": [],
   "source": []
  }
 ],
 "metadata": {
  "kernelspec": {
   "display_name": "Python 3",
   "language": "python",
   "name": "python3"
  },
  "language_info": {
   "codemirror_mode": {
    "name": "ipython",
    "version": 3
   },
   "file_extension": ".py",
   "mimetype": "text/x-python",
   "name": "python",
   "nbconvert_exporter": "python",
   "pygments_lexer": "ipython3",
   "version": "3.9.5"
  }
 },
 "nbformat": 4,
 "nbformat_minor": 5
}
